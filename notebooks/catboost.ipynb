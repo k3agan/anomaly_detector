{
 "cells": [
  {
   "cell_type": "code",
   "execution_count": 1,
   "metadata": {},
   "outputs": [
    {
     "name": "stdout",
     "output_type": "stream",
     "text": [
      "asttokens==2.4.1\n",
      "colorama==0.4.6\n",
      "comm==0.2.0\n",
      "debugpy==1.8.0\n",
      "decorator==5.1.1\n",
      "exceptiongroup==1.1.3\n",
      "executing==2.0.1\n",
      "ipykernel==6.26.0\n",
      "ipython==8.17.2\n",
      "jedi==0.19.1\n",
      "joblib==1.3.2\n",
      "jupyter_client==8.6.0\n",
      "jupyter_core==5.5.0\n",
      "matplotlib-inline==0.1.6\n",
      "nest-asyncio==1.5.8\n",
      "numpy==1.26.2\n",
      "packaging==23.2\n",
      "pandas==2.1.3\n",
      "parso==0.8.3\n",
      "platformdirs==4.0.0\n",
      "prompt-toolkit==3.0.40\n",
      "psutil==5.9.6\n",
      "pure-eval==0.2.2\n",
      "Pygments==2.16.1\n",
      "python-dateutil==2.8.2\n",
      "pytz==2023.3.post1\n",
      "pywin32==306\n",
      "pyzmq==25.1.1\n",
      "scikit-learn==1.3.2\n",
      "scipy==1.11.3\n",
      "six==1.16.0\n",
      "stack-data==0.6.3\n",
      "threadpoolctl==3.2.0\n",
      "tornado==6.3.3\n",
      "traitlets==5.13.0\n",
      "tzdata==2023.3\n",
      "wcwidth==0.2.9\n"
     ]
    }
   ],
   "source": [
    "!pip freeze"
   ]
  },
  {
   "cell_type": "code",
   "execution_count": 2,
   "metadata": {},
   "outputs": [],
   "source": [
    "import pandas as pd"
   ]
  },
  {
   "cell_type": "code",
   "execution_count": 28,
   "metadata": {},
   "outputs": [],
   "source": [
    "df  = pd.read_csv('../data/credit_card/fraudTrain.csv')\n",
    "\n",
    "# Assuming 'df' is your DataFrame and 'timestamp_column' is the name of your date-time feature column\n",
    "df['timestamp_column'] = pd.to_datetime(df['trans_date_trans_time'])\n",
    "\n",
    "# Extract date-time features\n",
    "df['year'] = df['timestamp_column'].dt.year\n",
    "df['month'] = df['timestamp_column'].dt.month\n",
    "df['day'] = df['timestamp_column'].dt.day\n",
    "df['hour'] = df['timestamp_column'].dt.hour\n",
    "df['minute'] = df['timestamp_column'].dt.minute\n",
    "df['second'] = df['timestamp_column'].dt.second\n",
    "df['day_of_week'] = df['timestamp_column'].dt.dayofweek\n",
    "df['is_weekend'] = df['day_of_week'].apply(lambda x: 1 if x > 4 else 0)\n",
    "\n",
    "from datetime import datetime\n",
    "\n",
    "# Assuming 'df' is your DataFrame and 'dob' is the date of birth column\n",
    "df['dob'] = pd.to_datetime(df['dob'])\n",
    "\n",
    "# Calculate age in years as of today's date\n",
    "df['age'] = (datetime.now() - df['dob']).dt.days // 365\n",
    "\n",
    "# You can now drop the original 'dob' column if you wish\n",
    "df.drop(columns=['dob'], inplace=True)\n",
    "\n",
    "\n",
    "# Drop the original date-time column if you no longer need it\n",
    "df.drop(columns=['trans_date_trans_time'], inplace=True)\n",
    "\n",
    "# Now df is ready for model training with CatBoost\n"
   ]
  },
  {
   "cell_type": "code",
   "execution_count": 29,
   "metadata": {},
   "outputs": [
    {
     "data": {
      "text/plain": [
       "Index(['Unnamed: 0', 'cc_num', 'merchant', 'category', 'amt', 'first', 'last',\n",
       "       'gender', 'street', 'city', 'state', 'zip', 'lat', 'long', 'city_pop',\n",
       "       'job', 'trans_num', 'unix_time', 'merch_lat', 'merch_long', 'is_fraud',\n",
       "       'timestamp_column', 'year', 'month', 'day', 'hour', 'minute', 'second',\n",
       "       'day_of_week', 'is_weekend', 'age'],\n",
       "      dtype='object')"
      ]
     },
     "execution_count": 29,
     "metadata": {},
     "output_type": "execute_result"
    }
   ],
   "source": [
    "df.drop(columns=['unix_time'])\n",
    "df.columns"
   ]
  },
  {
   "cell_type": "code",
   "execution_count": 30,
   "metadata": {},
   "outputs": [
    {
     "data": {
      "text/plain": [
       "is_fraud\n",
       "0    0.994211\n",
       "1    0.005789\n",
       "Name: proportion, dtype: float64"
      ]
     },
     "execution_count": 30,
     "metadata": {},
     "output_type": "execute_result"
    }
   ],
   "source": [
    "# show proportion of fraud vs non-fraud\n",
    "df['is_fraud'].value_counts(normalize=True)"
   ]
  },
  {
   "cell_type": "code",
   "execution_count": 31,
   "metadata": {},
   "outputs": [
    {
     "data": {
      "text/plain": [
       "is_fraud\n",
       "0    0.99421\n",
       "1    0.00579\n",
       "Name: proportion, dtype: float64"
      ]
     },
     "execution_count": 31,
     "metadata": {},
     "output_type": "execute_result"
    }
   ],
   "source": [
    "# train test split (stratified based on is_fraud)\n",
    "\n",
    "from sklearn.model_selection import train_test_split\n",
    "\n",
    "X = df.drop('is_fraud', axis=1)\n",
    "\n",
    "y = df['is_fraud']\n",
    "\n",
    "X_train, X_test, y_train, y_test = train_test_split(X, y, stratify=y, random_state=42)\n",
    "\n",
    "# check proportion of fraud in train and test\n",
    "y_train.value_counts(normalize=True)\n",
    "y_test.value_counts(normalize=True)\n"
   ]
  },
  {
   "cell_type": "code",
   "execution_count": 32,
   "metadata": {},
   "outputs": [
    {
     "data": {
      "text/plain": [
       "<catboost.core.CatBoostClassifier at 0x1a0269d7cd0>"
      ]
     },
     "execution_count": 32,
     "metadata": {},
     "output_type": "execute_result"
    }
   ],
   "source": [
    "# initial CatBoost model\n",
    "from catboost import CatBoostClassifier\n",
    "\n",
    "# List of categorical columns\n",
    "categorical_features = [\n",
    "    'merchant', 'category', 'first', 'last', 'gender',\n",
    "    'street', 'city', 'state', 'zip', 'job', 'cc_num', 'trans_num'\n",
    "]\n",
    "\n",
    "# Initialize CatBoost with the categorical features\n",
    "catboost_model = CatBoostClassifier(\n",
    "    auto_class_weights='Balanced',\n",
    "    cat_features=categorical_features,  # Specify the categorical columns by name\n",
    "    verbose=0,\n",
    "    random_state=42\n",
    ")\n",
    "\n",
    "# Fit the model with your training data\n",
    "catboost_model.fit(X_train, y_train)\n",
    "\n"
   ]
  },
  {
   "cell_type": "code",
   "execution_count": 33,
   "metadata": {},
   "outputs": [
    {
     "data": {
      "text/plain": [
       "0.9977604274313707"
      ]
     },
     "execution_count": 33,
     "metadata": {},
     "output_type": "execute_result"
    }
   ],
   "source": [
    "# check accuracy\n",
    "\n",
    "from sklearn.metrics import accuracy_score\n",
    "\n",
    "y_pred = catboost_model.predict(X_test)\n",
    "\n",
    "accuracy_score(y_test, y_pred)"
   ]
  },
  {
   "cell_type": "code",
   "execution_count": null,
   "metadata": {},
   "outputs": [],
   "source": []
  }
 ],
 "metadata": {
  "kernelspec": {
   "display_name": "venv",
   "language": "python",
   "name": "python3"
  },
  "language_info": {
   "codemirror_mode": {
    "name": "ipython",
    "version": 3
   },
   "file_extension": ".py",
   "mimetype": "text/x-python",
   "name": "python",
   "nbconvert_exporter": "python",
   "pygments_lexer": "ipython3",
   "version": "3.10.11"
  }
 },
 "nbformat": 4,
 "nbformat_minor": 2
}
